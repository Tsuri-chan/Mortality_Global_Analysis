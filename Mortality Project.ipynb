{
 "cells": [
  {
   "cell_type": "markdown",
   "id": "75ecc94b",
   "metadata": {},
   "source": [
    "   \n",
    "   \n",
    "   \n",
    "      \n",
    "       \n",
    "       "
   ]
  },
  {
   "cell_type": "markdown",
   "id": "737dd69c",
   "metadata": {},
   "source": [
    "\n",
    "# <center>Analyzin world mortality with SQL  and Tableau </center>"
   ]
  },
  {
   "cell_type": "markdown",
   "id": "79c73044",
   "metadata": {},
   "source": [
    "  "
   ]
  },
  {
   "cell_type": "markdown",
   "id": "f170e863",
   "metadata": {},
   "source": [
    "## Index\n",
    "\n",
    "1.\t**Introduction**\n",
    "2.\t**Description of dataset**\n",
    "3.\t**Exploring mortality**\n",
    "    1. Exploring mortality with SQL and Tableau\n",
    "4.\t**Analysis of mortality**\n",
    "    1. Death by region\n",
    "    2. Death by country\n",
    "    3. Death by cause\n",
    "    4. Death by age range\n",
    "5. **Exploring Childhood Mortality**\n",
    "    1. Child Mortality in the world\n",
    "    2. General causes of death of children under five years of age\n",
    "    3. Causes of death in the child population of mentioned countries\n",
    "5. **Conclusions** \n"
   ]
  },
  {
   "cell_type": "markdown",
   "id": "14631cbb",
   "metadata": {},
   "source": [
    "## 1. Introduction"
   ]
  },
  {
   "cell_type": "markdown",
   "id": "e6ed6485",
   "metadata": {},
   "source": [
    "Mortality is a demographic indicator that indicates several hints about the world and individual countries’ situation. Analyzing causes of death might uncover trends and how they vary across different countries and world regions. With that information, public health departments and many organizations can trace strategies to prevent early death and improve their healthcare system which would then increase life quality. \n",
    "According to Hannah Ritchie, et al. (2018), around 56 million people die each year; but what caused their deaths? Is the cause of death different around the world? And why? Is death correlated to age? What can the number of deaths tell us? Is it true that older people die more often than young people? Are there places where this is not true? These kinds of questions are answered in this notebook using SQL.\n"
   ]
  },
  {
   "cell_type": "markdown",
   "id": "a28e829b",
   "metadata": {},
   "source": [
    "## 2. Description of dataset\n"
   ]
  },
  {
   "cell_type": "markdown",
   "id": "c82393f0",
   "metadata": {},
   "source": [
    "The data set used for this notebook was taken from [Our World in Data](https://ourworldindata.org/causes-of-death). The data consists of several tables whose columns are organized by countries, years and the total number of deaths for each registered cause. The years range from 1990 to 2019, the set of tables is organized by age rank, risk factor and the total number of deaths. "
   ]
  },
  {
   "cell_type": "markdown",
   "id": "4ae8fad1",
   "metadata": {},
   "source": [
    "## 3. Exploring Mortality"
   ]
  },
  {
   "cell_type": "markdown",
   "id": "b74c0c64",
   "metadata": {},
   "source": [
    "### Mortality Analysis with SQL and Tableau"
   ]
  },
  {
   "cell_type": "markdown",
   "id": "060a3245",
   "metadata": {},
   "source": [
    "In the path of a data analyst and a data scientist, SQL is one of the most powerful tools for cleaning and analyzing large amounts of data. SQL allows you to manage simple structured data to gain insights for your business. One of the advantages of this structured language that is its relative ease of use. \n",
    "Data analysis cannot be complete without a good visualization of the results, for this type of situation, Tableau offers a diverse set of tools for custom charts and dashboards, allowing the creation of amazing images."
   ]
  },
  {
   "cell_type": "markdown",
   "id": "32fc6605",
   "metadata": {},
   "source": [
    "The query below shows the PostgreSQL connection:"
   ]
  },
  {
   "cell_type": "code",
   "execution_count": null,
   "id": "b4d5e36c",
   "metadata": {},
   "outputs": [],
   "source": [
    "%load_ext sql"
   ]
  },
  {
   "cell_type": "code",
   "execution_count": null,
   "id": "d9b58d69",
   "metadata": {},
   "outputs": [],
   "source": [
    "import os"
   ]
  },
  {
   "cell_type": "code",
   "execution_count": null,
   "id": "b18d57d4",
   "metadata": {},
   "outputs": [],
   "source": [
    "host = \"localhost\"\n",
    "database = \"Project_1\"\n",
    "user = os.getenv('SQL_USER')\n",
    "password = os.getenv('SQL_PASSWORD')"
   ]
  },
  {
   "cell_type": "code",
   "execution_count": null,
   "id": "19810637",
   "metadata": {},
   "outputs": [],
   "source": [
    "connection_string = f\"postgresql://{user}:{password}@{host}/{database}\""
   ]
  },
  {
   "cell_type": "code",
   "execution_count": null,
   "id": "b22cc67c",
   "metadata": {},
   "outputs": [],
   "source": [
    "%sql $connection_string"
   ]
  },
  {
   "cell_type": "markdown",
   "id": "70cf2b84",
   "metadata": {},
   "source": [
    "## 4. Analisis of mortality"
   ]
  },
  {
   "cell_type": "markdown",
   "id": "6470a8ff",
   "metadata": {},
   "source": [
    "### Death by region"
   ]
  },
  {
   "cell_type": "markdown",
   "id": "a3278617",
   "metadata": {},
   "source": [
    "When talking about death, one of the question to comes in is what is the total number of deaths by region? and what of all regions register more deaths? "
   ]
  },
  {
   "cell_type": "markdown",
   "id": "e7694f5c",
   "metadata": {},
   "source": [
    "The query below shows the running total number of death by region:"
   ]
  },
  {
   "cell_type": "code",
   "execution_count": null,
   "id": "1203175b",
   "metadata": {},
   "outputs": [],
   "source": [
    "%%sql \n",
    "\n",
    "SELECT \"Entity\", SUM(deaths) AS total_deaths\n",
    "FROM \n",
    "(\n",
    "SELECT \"Entity\", (\n",
    "    SELECT SUM(t.f)\n",
    "    FROM (VALUES\n",
    "\t\t  (\"Deaths - Meningitis \"),\n",
    "\t\t  (\"Deaths - Alzheimers disease and other dementias\"), \n",
    "\t\t  (\"Deaths - Parkinsons disease\"),\n",
    "\t\t  (\"Deaths - Nutritional deficiencies\"),\n",
    "\t\t  (\"Deaths - Malaria\"),\n",
    "\t\t  (\"Deaths - Drowning\"),\n",
    "\t\t  (\"Deaths - Interpersonal violence\"),\n",
    "\t\t  (\"Deaths - Maternal disorders\"),\n",
    "\t\t  (\"Deaths - HIV/AIDS\"),\n",
    "\t\t  (\"Deaths - Drug use disorders\"),\n",
    "\t\t  (\"Deaths - Tuberculosis\"),\n",
    "\t\t  (\"Deaths - Cardiovascular diseases\"),\n",
    "\t\t  (\"Deaths - Lower respiratory infections\"),\n",
    "\t\t  (\"Deaths - Neonatal disorders\"),\n",
    "\t\t  (\"Deaths - Alcohol use disorders\"),\n",
    "\t\t  (\"Deaths - Self-harm\"),\n",
    "\t\t  (\"Deaths - Exposure to forces of nature\"),\n",
    "\t\t  (\"Deaths - Diarrheal diseases\"),\n",
    "\t\t  (\"Deaths - Environmental heat and cold exposure\"),\n",
    "\t\t  (\"Deaths - Neoplasms\"),\n",
    "\t\t  (\"Deaths - Conflict and terrorism\"),\n",
    "\t\t  (\"Deaths - Diabetes mellitus\"),\n",
    "\t\t  (\"Deaths - Chronic kidney disease\"),\n",
    "\t\t  (\"Deaths - Poisonings\"),\n",
    "\t\t  (\"Deaths - Protein-energy malnutrition\"),\n",
    "\t\t  (\"Deaths - Terrorism (deaths)\"),\n",
    "\t\t  (\"Deaths - Road injuries\"),\n",
    "\t\t  (\"Deaths - Chronic respiratory diseases\"),\n",
    "\t\t  (\"Deaths - Cirrhosis and other chronic liver diseases\"),\n",
    "\t\t  (\"Deaths - Digestive diseases\"),\n",
    "\t\t  (\"Deaths - Fire heat and hot substances\"),\n",
    "\t\t  (\"Deaths - Acute hepatitis\")\t    \n",
    "\t\t ) \n",
    "\tAS t(f)\n",
    ") AS deaths\n",
    "FROM mortality.\"annual-number-of-deaths-by-cause\"\n",
    "WHERE \"Code\" is null and \"Entity\" like '%WH%' or \"Entity\" like '%WB%'\n",
    "ORDER BY 1 DESC\n",
    ") AS deaths\n",
    "GROUP BY 1\n",
    "ORDER BY 2 DESC"
   ]
  },
  {
   "cell_type": "markdown",
   "id": "5863e42f",
   "metadata": {},
   "source": [
    "   "
   ]
  },
  {
   "cell_type": "markdown",
   "id": "dd22ca09",
   "metadata": {},
   "source": [
    "People could die because of several causes, this dataset count 32 causes of death. Taking that into account is worth knowing what is the main cause of death in the world."
   ]
  },
  {
   "cell_type": "markdown",
   "id": "c3b7f4af",
   "metadata": {},
   "source": [
    "The following query answers that question:"
   ]
  },
  {
   "cell_type": "code",
   "execution_count": null,
   "id": "8ab56bf1",
   "metadata": {},
   "outputs": [],
   "source": [
    "%%sql \n",
    "\n",
    "WITH deaths_by_all_causes AS(\n",
    "SELECT \"Entity\",\"Code\", \"Year\",\n",
    "UNNEST(ARRAY ['Meningitis',\n",
    "\t\t\t  'Alzheimers disease and other dementias',\n",
    "\t\t\t  'Parkinsons disease',\n",
    "\t\t\t  'Nutritional deficiencies',\n",
    "\t\t\t  'Malaria',\n",
    "\t\t\t  'Drowning',\n",
    "\t\t\t  'Interpersonal violence',\n",
    "\t\t\t  'Maternal disorders',\n",
    "\t\t\t  'HIV/AIDS',\n",
    "\t\t\t  'Drug use disorders',\n",
    "\t\t\t  'Tuberculosis',\n",
    "\t\t\t  'Cardiovascular diseases',\n",
    "\t\t\t  'Lower respiratory infections',\n",
    "\t\t\t  'Neonatal disorders',\n",
    "\t\t\t  'Alcohol use disorders',\n",
    "\t\t\t  'Self-harm',\n",
    "\t\t\t  'Exposure to forces of nature',\n",
    "\t\t\t  'Diarrheal diseases',\n",
    "\t\t\t  'Environmental heat and cold exposure',\n",
    "\t\t\t  'Neoplasms',\n",
    "\t\t\t  'Conflict and terrorism',\n",
    "\t\t\t  'Diabetes mellitus',\n",
    "\t\t\t  'Chronic kidney disease',\n",
    "\t\t\t  'Poisonings',\n",
    "\t\t\t  'Protein-energy malnutrition',\n",
    "\t\t\t  'Terrorism (deaths)',\n",
    "\t\t\t  'Road injuries',\n",
    "\t\t\t  'Chronic respiratory diseases',\n",
    "\t\t\t  'Cirrhosis and other chronic liver diseases',\n",
    "\t\t\t  'Digestive diseases',\n",
    "\t\t\t  'Fire heat and hot substances',\n",
    "\t\t\t  'Acute hepatitis'\n",
    "\t\t\t ]) AS cause_of_deaths,\n",
    "UNNEST(ARRAY [\"Deaths - Meningitis \",\n",
    "\t\t\t  \"Deaths - Alzheimers disease and other dementias\",\n",
    "\t\t\t  \"Deaths - Parkinsons disease\",\n",
    "\t\t\t  \"Deaths - Nutritional deficiencies\",\n",
    "\t\t\t  \"Deaths - Malaria\",\n",
    "\t\t\t  \"Deaths - Drowning\",\n",
    "\t\t\t  \"Deaths - Interpersonal violence\",\n",
    "\t\t\t  \"Deaths - Maternal disorders\",\n",
    "\t\t\t  \"Deaths - HIV/AIDS\",\n",
    "\t\t\t  \"Deaths - Drug use disorders\",\n",
    "\t\t\t  \"Deaths - Tuberculosis\",\n",
    "\t\t\t  \"Deaths - Cardiovascular diseases\",\n",
    "\t\t\t  \"Deaths - Lower respiratory infections\",\n",
    "\t\t\t  \"Deaths - Neonatal disorders\",\n",
    "\t\t\t  \"Deaths - Alcohol use disorders\",\n",
    "\t\t\t  \"Deaths - Self-harm\",\n",
    "\t\t\t  \"Deaths - Exposure to forces of nature\",\n",
    "\t\t\t  \"Deaths - Diarrheal diseases\",\n",
    "\t\t\t  \"Deaths - Environmental heat and cold exposure\",\n",
    "\t\t\t  \"Deaths - Neoplasms\",\n",
    "\t\t\t  \"Deaths - Conflict and terrorism\",\n",
    "\t\t\t  \"Deaths - Diabetes mellitus\",\n",
    "\t\t\t  \"Deaths - Chronic kidney disease\",\n",
    "\t\t\t  \"Deaths - Poisonings\",\n",
    "\t\t\t  \"Deaths - Protein-energy malnutrition\",\n",
    "\t\t\t  \"Deaths - Terrorism (deaths)\",\n",
    "\t\t\t  \"Deaths - Road injuries\",\n",
    "\t\t\t  \"Deaths - Chronic respiratory diseases\",\n",
    "\t\t\t  \"Deaths - Cirrhosis and other chronic liver diseases\",\n",
    "\t\t\t  \"Deaths - Digestive diseases\",\n",
    "\t\t\t  \"Deaths - Fire heat and hot substances\",\n",
    "\t\t\t  \"Deaths - Acute hepatitis\"\n",
    "\t\t\t ]) AS number_of_deaths\n",
    "FROM mortality.\"annual-number-of-deaths-by-cause\"\n",
    ")\n",
    "SELECT cause_of_deaths, SUM(number_of_deaths) AS total_deaths\n",
    "FROM deaths_by_all_causes\n",
    "GROUP BY 1\n",
    "ORDER BY 2 DESC\n",
    "LIMIT 5"
   ]
  },
  {
   "cell_type": "markdown",
   "id": "14fa7508",
   "metadata": {},
   "source": [
    "The query shows that the main cause of death in the world is **cardiovascular disease**, which is a general term for conditions affecting the heart or blood vessels. It's usually associated with a build-up of fatty deposits inside the arteries (atherosclerosis) and an increased risk of blood clots. Also, it can be associated with damage to arteries in organs such as the brain, heart, kidneys, and eyes."
   ]
  },
  {
   "cell_type": "markdown",
   "id": "7eab399c",
   "metadata": {},
   "source": [
    "Now the question is: Is it possible that this cause remains the main cause of death in all regions? "
   ]
  },
  {
   "cell_type": "markdown",
   "id": "0ea2e04f",
   "metadata": {},
   "source": [
    "The query below shows the top 5 causes of death for all regions organized by rank from 1 to 5. "
   ]
  },
  {
   "cell_type": "code",
   "execution_count": null,
   "id": "a600c131",
   "metadata": {},
   "outputs": [],
   "source": [
    "%%sql\n",
    "\n",
    "\n",
    "WITH deaths_by_all_causes AS(\n",
    "SELECT \"Entity\",\"Code\", \"Year\",\n",
    "UNNEST(ARRAY ['Meningitis',\n",
    "\t\t\t  'Alzheimers disease and other dementias',\n",
    "\t\t\t  'Parkinsons disease',\n",
    "\t\t\t  'Nutritional deficiencies',\n",
    "\t\t\t  'Malaria',\n",
    "\t\t\t  'Drowning',\n",
    "\t\t\t  'Interpersonal violence',\n",
    "\t\t\t  'Maternal disorders',\n",
    "\t\t\t  'HIV/AIDS',\n",
    "\t\t\t  'Drug use disorders',\n",
    "\t\t\t  'Tuberculosis',\n",
    "\t\t\t  'Cardiovascular diseases',\n",
    "\t\t\t  'Lower respiratory infections',\n",
    "\t\t\t  'Neonatal disorders',\n",
    "\t\t\t  'Alcohol use disorders',\n",
    "\t\t\t  'Self-harm',\n",
    "\t\t\t  'Exposure to forces of nature',\n",
    "\t\t\t  'Diarrheal diseases',\n",
    "\t\t\t  'Environmental heat and cold exposure',\n",
    "\t\t\t  'Neoplasms',\n",
    "\t\t\t  'Conflict and terrorism',\n",
    "\t\t\t  'Diabetes mellitus',\n",
    "\t\t\t  'Chronic kidney disease',\n",
    "\t\t\t  'Poisonings',\n",
    "\t\t\t  'Protein-energy malnutrition',\n",
    "\t\t\t  'Terrorism (deaths)',\n",
    "\t\t\t  'Road injuries',\n",
    "\t\t\t  'Chronic respiratory diseases',\n",
    "\t\t\t  'Cirrhosis and other chronic liver diseases',\n",
    "\t\t\t  'Digestive diseases',\n",
    "\t\t\t  'Fire heat and hot substances',\n",
    "\t\t\t  'Acute hepatitis'\n",
    "\t\t\t ]) AS cause_of_deaths,\n",
    "UNNEST(ARRAY [\"Deaths - Meningitis \",\n",
    "\t\t\t  \"Deaths - Alzheimers disease and other dementias\",\n",
    "\t\t\t  \"Deaths - Parkinsons disease\",\n",
    "\t\t\t  \"Deaths - Nutritional deficiencies\",\n",
    "\t\t\t  \"Deaths - Malaria\",\n",
    "\t\t\t  \"Deaths - Drowning\",\n",
    "\t\t\t  \"Deaths - Interpersonal violence\",\n",
    "\t\t\t  \"Deaths - Maternal disorders\",\n",
    "\t\t\t  \"Deaths - HIV/AIDS\",\n",
    "\t\t\t  \"Deaths - Drug use disorders\",\n",
    "\t\t\t  \"Deaths - Tuberculosis\",\n",
    "\t\t\t  \"Deaths - Cardiovascular diseases\",\n",
    "\t\t\t  \"Deaths - Lower respiratory infections\",\n",
    "\t\t\t  \"Deaths - Neonatal disorders\",\n",
    "\t\t\t  \"Deaths - Alcohol use disorders\",\n",
    "\t\t\t  \"Deaths - Self-harm\",\n",
    "\t\t\t  \"Deaths - Exposure to forces of nature\",\n",
    "\t\t\t  \"Deaths - Diarrheal diseases\",\n",
    "\t\t\t  \"Deaths - Environmental heat and cold exposure\",\n",
    "\t\t\t  \"Deaths - Neoplasms\",\n",
    "\t\t\t  \"Deaths - Conflict and terrorism\",\n",
    "\t\t\t  \"Deaths - Diabetes mellitus\",\n",
    "\t\t\t  \"Deaths - Chronic kidney disease\",\n",
    "\t\t\t  \"Deaths - Poisonings\",\n",
    "\t\t\t  \"Deaths - Protein-energy malnutrition\",\n",
    "\t\t\t  \"Deaths - Terrorism (deaths)\",\n",
    "\t\t\t  \"Deaths - Road injuries\",\n",
    "\t\t\t  \"Deaths - Chronic respiratory diseases\",\n",
    "\t\t\t  \"Deaths - Cirrhosis and other chronic liver diseases\",\n",
    "\t\t\t  \"Deaths - Digestive diseases\",\n",
    "\t\t\t  \"Deaths - Fire heat and hot substances\",\n",
    "\t\t\t  \"Deaths - Acute hepatitis\"\n",
    "\t\t\t ]) AS number_of_deaths\n",
    "FROM mortality.\"annual-number-of-deaths-by-cause\"\n",
    "WHERE \"Code\" IS null AND \"Entity\" LIKE '%WH%' OR \"Entity\" LIKE '%WB%'\n",
    ")\n",
    "SELECT ranked_causes_of_deaths.* FROM \n",
    "(\n",
    "SELECT \"Entity\", cause_of_deaths, MAX(number_of_deaths) AS top_deaths,\n",
    "RANK() OVER(PARTITION BY \"Entity\" ORDER BY MAX(number_of_deaths) DESC) AS rn\n",
    "FROM deaths_by_all_causes\n",
    "WHERE number_of_deaths IS NOT null \n",
    "GROUP BY 1,2 \n",
    "ORDER BY 1, 3 DESC\n",
    "\t) ranked_causes_of_deaths\n",
    "WHERE rn <= 5;"
   ]
  },
  {
   "cell_type": "markdown",
   "id": "a81d7c58",
   "metadata": {},
   "source": [
    "    "
   ]
  },
  {
   "cell_type": "markdown",
   "id": "c9ded536",
   "metadata": {},
   "source": [
    "It is a well-known saying that an image says more than a thousand words, images make it easy to view trends, and for this reason, the output was organized in the graph below."
   ]
  },
  {
   "cell_type": "markdown",
   "id": "24cb2bc4",
   "metadata": {},
   "source": [
    "The graph shows the top 5 causes of death in each region. The graph shows that cardiovascular disease as the main cause of death prevails as a trend in almost all regions with more than 40% of total deaths except for the Africa Region whose main cause of death is HIV/AIDS.\n",
    "The Africa Region includes Sub-Saharan Africa and North Africa. However, if the Arabic countries are separated from the non-Arabic ones and consider Sub-Saharan Africa and North Africa-Middle East, it is clear that Sub-Saharan Africa is responsible for the change in the trend and that the North Africa-Middle East region maintains cardiovascular disease as the principal cause of death. "
   ]
  },
  {
   "cell_type": "code",
   "execution_count": 1,
   "id": "e4d0da01",
   "metadata": {},
   "outputs": [
    {
     "data": {
      "text/html": [
       "<div class='tableauPlaceholder' id='viz1673365659052' style='position: relative'><noscript><a href='#'><img alt='Dashboard 1 ' src='https:&#47;&#47;public.tableau.com&#47;static&#47;images&#47;Gr&#47;Graph1MortalityProyect&#47;Dashboard1&#47;1_rss.png' style='border: none' /></a></noscript><object class='tableauViz'  style='display:none;'><param name='host_url' value='https%3A%2F%2Fpublic.tableau.com%2F' /> <param name='embed_code_version' value='3' /> <param name='site_root' value='' /><param name='name' value='Graph1MortalityProyect&#47;Dashboard1' /><param name='tabs' value='no' /><param name='toolbar' value='yes' /><param name='static_image' value='https:&#47;&#47;public.tableau.com&#47;static&#47;images&#47;Gr&#47;Graph1MortalityProyect&#47;Dashboard1&#47;1.png' /> <param name='animate_transition' value='yes' /><param name='display_static_image' value='yes' /><param name='display_spinner' value='yes' /><param name='display_overlay' value='yes' /><param name='display_count' value='yes' /><param name='language' value='es-ES' /></object></div>                <script type='text/javascript'>                    var divElement = document.getElementById('viz1673365659052');                    var vizElement = divElement.getElementsByTagName('object')[0];                    if ( divElement.offsetWidth > 800 ) { vizElement.style.minWidth='889px';vizElement.style.maxWidth='1089px';vizElement.style.width='100%';vizElement.style.minHeight='351px';vizElement.style.maxHeight='551px';vizElement.style.height=(divElement.offsetWidth*0.75)+'px';} else if ( divElement.offsetWidth > 500 ) { vizElement.style.minWidth='889px';vizElement.style.maxWidth='1089px';vizElement.style.width='100%';vizElement.style.minHeight='351px';vizElement.style.maxHeight='551px';vizElement.style.height=(divElement.offsetWidth*0.75)+'px';} else { vizElement.style.width='100%';vizElement.style.height='727px';}                     var scriptElement = document.createElement('script');                    scriptElement.src = 'https://public.tableau.com/javascripts/api/viz_v1.js';                    vizElement.parentNode.insertBefore(scriptElement, vizElement);                </script>\n"
      ],
      "text/plain": [
       "<IPython.core.display.HTML object>"
      ]
     },
     "metadata": {},
     "output_type": "display_data"
    }
   ],
   "source": [
    "%%html\n",
    "<div class='tableauPlaceholder' id='viz1673365659052' style='position: relative'><noscript><a href='#'><img alt='Dashboard 1 ' src='https:&#47;&#47;public.tableau.com&#47;static&#47;images&#47;Gr&#47;Graph1MortalityProyect&#47;Dashboard1&#47;1_rss.png' style='border: none' /></a></noscript><object class='tableauViz'  style='display:none;'><param name='host_url' value='https%3A%2F%2Fpublic.tableau.com%2F' /> <param name='embed_code_version' value='3' /> <param name='site_root' value='' /><param name='name' value='Graph1MortalityProyect&#47;Dashboard1' /><param name='tabs' value='no' /><param name='toolbar' value='yes' /><param name='static_image' value='https:&#47;&#47;public.tableau.com&#47;static&#47;images&#47;Gr&#47;Graph1MortalityProyect&#47;Dashboard1&#47;1.png' /> <param name='animate_transition' value='yes' /><param name='display_static_image' value='yes' /><param name='display_spinner' value='yes' /><param name='display_overlay' value='yes' /><param name='display_count' value='yes' /><param name='language' value='es-ES' /></object></div>                <script type='text/javascript'>                    var divElement = document.getElementById('viz1673365659052');                    var vizElement = divElement.getElementsByTagName('object')[0];                    if ( divElement.offsetWidth > 800 ) { vizElement.style.minWidth='889px';vizElement.style.maxWidth='1089px';vizElement.style.width='100%';vizElement.style.minHeight='351px';vizElement.style.maxHeight='551px';vizElement.style.height=(divElement.offsetWidth*0.75)+'px';} else if ( divElement.offsetWidth > 500 ) { vizElement.style.minWidth='889px';vizElement.style.maxWidth='1089px';vizElement.style.width='100%';vizElement.style.minHeight='351px';vizElement.style.maxHeight='551px';vizElement.style.height=(divElement.offsetWidth*0.75)+'px';} else { vizElement.style.width='100%';vizElement.style.height='727px';}                     var scriptElement = document.createElement('script');                    scriptElement.src = 'https://public.tableau.com/javascripts/api/viz_v1.js';                    vizElement.parentNode.insertBefore(scriptElement, vizElement);                </script>"
   ]
  },
  {
   "cell_type": "markdown",
   "id": "9bfa61d8",
   "metadata": {},
   "source": [
    "### Death by country"
   ]
  },
  {
   "cell_type": "markdown",
   "id": "f31638aa",
   "metadata": {},
   "source": [
    "In the same way, as with the regions, it is worth knowing which are the countries that register the most total deaths, for that only currently existing countries were taken into consideration, which means, countries like USSR were not taken into account."
   ]
  },
  {
   "cell_type": "markdown",
   "id": "ded38282",
   "metadata": {},
   "source": [
    "The following query shows which of all countries registered more total deaths, the countries are organized  in a top 10:"
   ]
  },
  {
   "cell_type": "code",
   "execution_count": null,
   "id": "7a432a15",
   "metadata": {},
   "outputs": [],
   "source": [
    "%%sql\n",
    "\n",
    "\n",
    "SELECT \"Entity\",\"Code\", SUM(deaths) AS total_deaths\n",
    "FROM \n",
    "(\n",
    "SELECT \"Entity\",\"Code\", (\n",
    "    SELECT SUM(t.f)\n",
    "    FROM (VALUES\n",
    "\t\t  (\"Deaths - Meningitis \"),\n",
    "\t\t  (\"Deaths - Alzheimers disease and other dementias\"), \n",
    "\t\t  (\"Deaths - Parkinsons disease\"),\n",
    "\t\t  (\"Deaths - Nutritional deficiencies\"),\n",
    "\t\t  (\"Deaths - Malaria\"),\n",
    "\t\t  (\"Deaths - Drowning\"),\n",
    "\t\t  (\"Deaths - Interpersonal violence\"),\n",
    "\t\t  (\"Deaths - Maternal disorders\"),\n",
    "\t\t  (\"Deaths - HIV/AIDS\"),\n",
    "\t\t  (\"Deaths - Drug use disorders\"),\n",
    "\t\t  (\"Deaths - Tuberculosis\"),\n",
    "\t\t  (\"Deaths - Cardiovascular diseases\"),\n",
    "\t\t  (\"Deaths - Lower respiratory infections\"),\n",
    "\t\t  (\"Deaths - Neonatal disorders\"),\n",
    "\t\t  (\"Deaths - Alcohol use disorders\"),\n",
    "\t\t  (\"Deaths - Self-harm\"),\n",
    "\t\t  (\"Deaths - Exposure to forces of nature\"),\n",
    "\t\t  (\"Deaths - Diarrheal diseases\"),\n",
    "\t\t  (\"Deaths - Environmental heat and cold exposure\"),\n",
    "\t\t  (\"Deaths - Neoplasms\"),\n",
    "\t\t  (\"Deaths - Conflict and terrorism\"),\n",
    "\t\t  (\"Deaths - Diabetes mellitus\"),\n",
    "\t\t  (\"Deaths - Chronic kidney disease\"),\n",
    "\t\t  (\"Deaths - Poisonings\"),\n",
    "\t\t  (\"Deaths - Protein-energy malnutrition\"),\n",
    "\t\t  (\"Deaths - Terrorism (deaths)\"),\n",
    "\t\t  (\"Deaths - Road injuries\"),\n",
    "\t\t  (\"Deaths - Chronic respiratory diseases\"),\n",
    "\t\t  (\"Deaths - Cirrhosis and other chronic liver diseases\"),\n",
    "\t\t  (\"Deaths - Digestive diseases\"),\n",
    "\t\t  (\"Deaths - Fire heat and hot substances\"),\n",
    "\t\t  (\"Deaths - Acute hepatitis\")\t    \n",
    "\t\t ) \n",
    "\tAS t(f)\n",
    ") AS deaths\n",
    "FROM mortality.\"annual-number-of-deaths-by-cause\"\n",
    "WHERE \"Code\" IS NOT null AND \"Code\" NOT LIKE '%\\_%'\n",
    "ORDER BY 1 DESC\n",
    ") AS deaths\n",
    "GROUP BY \"Entity\", \"Code\"\n",
    "ORDER BY 3 DESC\n",
    "LIMIT 10;"
   ]
  },
  {
   "cell_type": "markdown",
   "id": "5a448ffc",
   "metadata": {},
   "source": [
    "We can see that the top ten countries are all countries with a high population, which is why it is not surprising that these countries are the ones that report the highest number of total deaths, but what are the leading causes of death in those countries? "
   ]
  },
  {
   "cell_type": "markdown",
   "id": "baa6a9cd",
   "metadata": {},
   "source": [
    "The following query gives the leading causes of death in those countries ranking from 1 to 5, where 1 is the cause with the most registered deaths and 5 is the last one. "
   ]
  },
  {
   "cell_type": "code",
   "execution_count": null,
   "id": "6eea096f",
   "metadata": {},
   "outputs": [],
   "source": [
    "%%sql\n",
    "\n",
    "WITH deaths_by_all_causes AS(\n",
    "SELECT \"Entity\",\"Code\", \"Year\",\n",
    "UNNEST(ARRAY ['Meningitis',\n",
    "\t\t\t  'Alzheimers disease and other dementias',\n",
    "\t\t\t  'Parkinsons disease',\n",
    "\t\t\t  'Nutritional deficiencies',\n",
    "\t\t\t  'Malaria',\n",
    "\t\t\t  'Drowning',\n",
    "\t\t\t  'Interpersonal violence',\n",
    "\t\t\t  'Maternal disorders',\n",
    "\t\t\t  'HIV/AIDS',\n",
    "\t\t\t  'Drug use disorders',\n",
    "\t\t\t  'Tuberculosis',\n",
    "\t\t\t  'Cardiovascular diseases',\n",
    "\t\t\t  'Lower respiratory infections',\n",
    "\t\t\t  'Neonatal disorders',\n",
    "\t\t\t  'Alcohol use disorders',\n",
    "\t\t\t  'Self-harm',\n",
    "\t\t\t  'Exposure to forces of nature',\n",
    "\t\t\t  'Diarrheal diseases',\n",
    "\t\t\t  'Environmental heat and cold exposure',\n",
    "\t\t\t  'Neoplasms',\n",
    "\t\t\t  'Conflict and terrorism',\n",
    "\t\t\t  'Diabetes mellitus',\n",
    "\t\t\t  'Chronic kidney disease',\n",
    "\t\t\t  'Poisonings',\n",
    "\t\t\t  'Protein-energy malnutrition',\n",
    "\t\t\t  'Terrorism (deaths)',\n",
    "\t\t\t  'Road injuries',\n",
    "\t\t\t  'Chronic respiratory diseases',\n",
    "\t\t\t  'Cirrhosis and other chronic liver diseases',\n",
    "\t\t\t  'Digestive diseases',\n",
    "\t\t\t  'Fire heat and hot substances',\n",
    "\t\t\t  'Acute hepatitis'\n",
    "\t\t\t ]) AS cause_of_deaths,\n",
    "UNNEST(ARRAY [\"Deaths - Meningitis \",\n",
    "\t\t\t  \"Deaths - Alzheimers disease and other dementias\",\n",
    "\t\t\t  \"Deaths - Parkinsons disease\",\n",
    "\t\t\t  \"Deaths - Nutritional deficiencies\",\n",
    "\t\t\t  \"Deaths - Malaria\",\n",
    "\t\t\t  \"Deaths - Drowning\",\n",
    "\t\t\t  \"Deaths - Interpersonal violence\",\n",
    "\t\t\t  \"Deaths - Maternal disorders\",\n",
    "\t\t\t  \"Deaths - HIV/AIDS\",\n",
    "\t\t\t  \"Deaths - Drug use disorders\",\n",
    "\t\t\t  \"Deaths - Tuberculosis\",\n",
    "\t\t\t  \"Deaths - Cardiovascular diseases\",\n",
    "\t\t\t  \"Deaths - Lower respiratory infections\",\n",
    "\t\t\t  \"Deaths - Neonatal disorders\",\n",
    "\t\t\t  \"Deaths - Alcohol use disorders\",\n",
    "\t\t\t  \"Deaths - Self-harm\",\n",
    "\t\t\t  \"Deaths - Exposure to forces of nature\",\n",
    "\t\t\t  \"Deaths - Diarrheal diseases\",\n",
    "\t\t\t  \"Deaths - Environmental heat and cold exposure\",\n",
    "\t\t\t  \"Deaths - Neoplasms\",\n",
    "\t\t\t  \"Deaths - Conflict and terrorism\",\n",
    "\t\t\t  \"Deaths - Diabetes mellitus\",\n",
    "\t\t\t  \"Deaths - Chronic kidney disease\",\n",
    "\t\t\t  \"Deaths - Poisonings\",\n",
    "\t\t\t  \"Deaths - Protein-energy malnutrition\",\n",
    "\t\t\t  \"Deaths - Terrorism (deaths)\",\n",
    "\t\t\t  \"Deaths - Road injuries\",\n",
    "\t\t\t  \"Deaths - Chronic respiratory diseases\",\n",
    "\t\t\t  \"Deaths - Cirrhosis and other chronic liver diseases\",\n",
    "\t\t\t  \"Deaths - Digestive diseases\",\n",
    "\t\t\t  \"Deaths - Fire heat and hot substances\",\n",
    "\t\t\t  \"Deaths - Acute hepatitis\"\n",
    "\t\t\t ]) AS number_of_deaths\n",
    "FROM mortality.\"annual-number-of-deaths-by-cause\"\n",
    "WHERE \"Code\" IS NOT null AND \"Code\" NOT LIKE '%\\_%'\n",
    "),\n",
    "top_countries AS (\n",
    "SELECT \"Entity\",\"Code\", SUM(deaths) AS total_deaths\n",
    "FROM \n",
    "(\n",
    "SELECT \"Entity\",\"Code\", (\n",
    "    SELECT SUM(t.f)\n",
    "    FROM (VALUES\n",
    "\t\t  (\"Deaths - Meningitis \"),\n",
    "\t\t  (\"Deaths - Alzheimers disease and other dementias\"), \n",
    "\t\t  (\"Deaths - Parkinsons disease\"),\n",
    "\t\t  (\"Deaths - Nutritional deficiencies\"),\n",
    "\t\t  (\"Deaths - Malaria\"),\n",
    "\t\t  (\"Deaths - Drowning\"),\n",
    "\t\t  (\"Deaths - Interpersonal violence\"),\n",
    "\t\t  (\"Deaths - Maternal disorders\"),\n",
    "\t\t  (\"Deaths - HIV/AIDS\"),\n",
    "\t\t  (\"Deaths - Drug use disorders\"),\n",
    "\t\t  (\"Deaths - Tuberculosis\"),\n",
    "\t\t  (\"Deaths - Cardiovascular diseases\"),\n",
    "\t\t  (\"Deaths - Lower respiratory infections\"),\n",
    "\t\t  (\"Deaths - Neonatal disorders\"),\n",
    "\t\t  (\"Deaths - Alcohol use disorders\"),\n",
    "\t\t  (\"Deaths - Self-harm\"),\n",
    "\t\t  (\"Deaths - Exposure to forces of nature\"),\n",
    "\t\t  (\"Deaths - Diarrheal diseases\"),\n",
    "\t\t  (\"Deaths - Environmental heat and cold exposure\"),\n",
    "\t\t  (\"Deaths - Neoplasms\"),\n",
    "\t\t  (\"Deaths - Conflict and terrorism\"),\n",
    "\t\t  (\"Deaths - Diabetes mellitus\"),\n",
    "\t\t  (\"Deaths - Chronic kidney disease\"),\n",
    "\t\t  (\"Deaths - Poisonings\"),\n",
    "\t\t  (\"Deaths - Protein-energy malnutrition\"),\n",
    "\t\t  (\"Deaths - Terrorism (deaths)\"),\n",
    "\t\t  (\"Deaths - Road injuries\"),\n",
    "\t\t  (\"Deaths - Chronic respiratory diseases\"),\n",
    "\t\t  (\"Deaths - Cirrhosis and other chronic liver diseases\"),\n",
    "\t\t  (\"Deaths - Digestive diseases\"),\n",
    "\t\t  (\"Deaths - Fire heat and hot substances\"),\n",
    "\t\t  (\"Deaths - Acute hepatitis\")\t    \n",
    "\t\t ) \n",
    "\tAS t(f)\n",
    ") AS deaths\n",
    "FROM mortality.\"annual-number-of-deaths-by-cause\"\n",
    "WHERE \"Code\" IS NOT null AND \"Code\" NOT LIKE '%\\_%'\n",
    "ORDER BY 1 DESC\n",
    ") AS deaths\n",
    "GROUP BY \"Entity\", \"Code\"\n",
    "ORDER BY 3 DESC\n",
    "LIMIT 10\n",
    ")\n",
    "SELECT ranked_causes_of_deaths.* FROM (\n",
    "SELECT a.\"Entity\", a.\"Code\", a.cause_of_deaths, MAX(number_of_deaths) AS top_deaths,\n",
    "RANK() OVER(PARTITION BY a.\"Entity\" ORDER BY MAX(number_of_deaths) DESC) AS rn\n",
    "FROM deaths_by_all_causes a\n",
    "JOIN top_countries b\n",
    "ON a.\"Entity\" = b.\"Entity\"\n",
    "WHERE number_of_deaths IS NOT null \n",
    "GROUP BY 1,2,3 \n",
    "ORDER BY 1, 4 DESC\n",
    "\t) ranked_causes_of_deaths\n",
    "WHERE rn <= 5;"
   ]
  },
  {
   "cell_type": "markdown",
   "id": "784b79bc",
   "metadata": {},
   "source": [
    "   "
   ]
  },
  {
   "cell_type": "markdown",
   "id": "3e9542d2",
   "metadata": {},
   "source": [
    "To appreciate better those results, the graph below shows the top 5 deaths in the mentioned countries. Cardiovascular disease remains the main cause in almost all countries with at least 39% of total deaths in the set of 5 leading causes, except for Nigeria and Japan, in which the leading causes are diarrheal disease and neoplasm respectively. Also, there are clear differences between those countries with high economic development and those with lower economic development such as India, Nigeria, Pakistan, and Brazil, which register neonatal disorders as one of the main causes of death. "
   ]
  },
  {
   "cell_type": "code",
   "execution_count": 2,
   "id": "51ac43af",
   "metadata": {},
   "outputs": [
    {
     "data": {
      "text/html": [
       "<div class='tableauPlaceholder' id='viz1673365787527' style='position: relative'><noscript><a href='#'><img alt='Dashboard 1 ' src='https:&#47;&#47;public.tableau.com&#47;static&#47;images&#47;Gr&#47;Graph2_1MortalityProject&#47;Dashboard1&#47;1_rss.png' style='border: none' /></a></noscript><object class='tableauViz'  style='display:none;'><param name='host_url' value='https%3A%2F%2Fpublic.tableau.com%2F' /> <param name='embed_code_version' value='3' /> <param name='site_root' value='' /><param name='name' value='Graph2_1MortalityProject&#47;Dashboard1' /><param name='tabs' value='no' /><param name='toolbar' value='yes' /><param name='static_image' value='https:&#47;&#47;public.tableau.com&#47;static&#47;images&#47;Gr&#47;Graph2_1MortalityProject&#47;Dashboard1&#47;1.png' /> <param name='animate_transition' value='yes' /><param name='display_static_image' value='yes' /><param name='display_spinner' value='yes' /><param name='display_overlay' value='yes' /><param name='display_count' value='yes' /><param name='language' value='es-ES' /></object></div>                <script type='text/javascript'>                    var divElement = document.getElementById('viz1673365787527');                    var vizElement = divElement.getElementsByTagName('object')[0];                    if ( divElement.offsetWidth > 800 ) { vizElement.style.minWidth='920px';vizElement.style.maxWidth='1020px';vizElement.style.width='100%';vizElement.style.height='587px';} else if ( divElement.offsetWidth > 500 ) { vizElement.style.minWidth='920px';vizElement.style.maxWidth='1020px';vizElement.style.width='100%';vizElement.style.height='587px';} else { vizElement.style.width='100%';vizElement.style.height='727px';}                     var scriptElement = document.createElement('script');                    scriptElement.src = 'https://public.tableau.com/javascripts/api/viz_v1.js';                    vizElement.parentNode.insertBefore(scriptElement, vizElement);                </script>\n"
      ],
      "text/plain": [
       "<IPython.core.display.HTML object>"
      ]
     },
     "metadata": {},
     "output_type": "display_data"
    }
   ],
   "source": [
    "%%html\n",
    "<div class='tableauPlaceholder' id='viz1673365787527' style='position: relative'><noscript><a href='#'><img alt='Dashboard 1 ' src='https:&#47;&#47;public.tableau.com&#47;static&#47;images&#47;Gr&#47;Graph2_1MortalityProject&#47;Dashboard1&#47;1_rss.png' style='border: none' /></a></noscript><object class='tableauViz'  style='display:none;'><param name='host_url' value='https%3A%2F%2Fpublic.tableau.com%2F' /> <param name='embed_code_version' value='3' /> <param name='site_root' value='' /><param name='name' value='Graph2_1MortalityProject&#47;Dashboard1' /><param name='tabs' value='no' /><param name='toolbar' value='yes' /><param name='static_image' value='https:&#47;&#47;public.tableau.com&#47;static&#47;images&#47;Gr&#47;Graph2_1MortalityProject&#47;Dashboard1&#47;1.png' /> <param name='animate_transition' value='yes' /><param name='display_static_image' value='yes' /><param name='display_spinner' value='yes' /><param name='display_overlay' value='yes' /><param name='display_count' value='yes' /><param name='language' value='es-ES' /></object></div>                <script type='text/javascript'>                    var divElement = document.getElementById('viz1673365787527');                    var vizElement = divElement.getElementsByTagName('object')[0];                    if ( divElement.offsetWidth > 800 ) { vizElement.style.minWidth='920px';vizElement.style.maxWidth='1020px';vizElement.style.width='100%';vizElement.style.height='587px';} else if ( divElement.offsetWidth > 500 ) { vizElement.style.minWidth='920px';vizElement.style.maxWidth='1020px';vizElement.style.width='100%';vizElement.style.height='587px';} else { vizElement.style.width='100%';vizElement.style.height='727px';}                     var scriptElement = document.createElement('script');                    scriptElement.src = 'https://public.tableau.com/javascripts/api/viz_v1.js';                    vizElement.parentNode.insertBefore(scriptElement, vizElement);                </script>"
   ]
  },
  {
   "cell_type": "markdown",
   "id": "e36144cc",
   "metadata": {},
   "source": [
    "### Death by cause"
   ]
  },
  {
   "cell_type": "markdown",
   "id": "5a5fb38e",
   "metadata": {},
   "source": [
    "The following graph shows a global overview of the leading causes of death during the recorded years (1990-2019), the data were extracted with the following query, for ease, an additional table was created selecting only the 13 most frequent causes of death for all countries, and only 5 leading causes of death per year were taken into consideration. The output only shows the first 50 rows."
   ]
  },
  {
   "cell_type": "code",
   "execution_count": null,
   "id": "00969d8b",
   "metadata": {},
   "outputs": [],
   "source": [
    "%%sql\n",
    "\n",
    "SELECT top5_deaths_by_year.* FROM (SELECT \"Entity\", \"Code\", \"Year\", cause_of_deaths, MAX(total_deaths) AS total_deaths,\n",
    "RANK() OVER(PARTITION BY \"Entity\", \"Year\" ORDER BY MAX(total_deaths) DESC) AS rn\n",
    "FROM mortality.top13_deaths_in_countries\n",
    "GROUP BY 1,2,3,4\n",
    "ORDER BY 1,5,6 DESC) top5_deaths_by_year\n",
    "WHERE rn <= 5\n",
    "ORDER BY 1,3,5 DESC\n",
    "LIMIT 50"
   ]
  },
  {
   "cell_type": "markdown",
   "id": "c58662cc",
   "metadata": {},
   "source": [
    "   "
   ]
  },
  {
   "cell_type": "markdown",
   "id": "127e33db",
   "metadata": {},
   "source": [
    "The graph below was made with the full output of the query above, it is possible to observe the trends of the main causes of death through the years, it is also possible to appreciate the occurrence of natural disasters such as Haiti where the 2004 Hurricane Jane and 2010 earthquake increased the number of deaths."
   ]
  },
  {
   "cell_type": "code",
   "execution_count": 3,
   "id": "b273e64a",
   "metadata": {},
   "outputs": [
    {
     "data": {
      "text/html": [
       "<div class='tableauPlaceholder' id='viz1673365851677' style='position: relative'><noscript><a href='#'><img alt='Dashboard 1 ' src='https:&#47;&#47;public.tableau.com&#47;static&#47;images&#47;Gr&#47;Graph2MortalityProject&#47;Dashboard1&#47;1_rss.png' style='border: none' /></a></noscript><object class='tableauViz'  style='display:none;'><param name='host_url' value='https%3A%2F%2Fpublic.tableau.com%2F' /> <param name='embed_code_version' value='3' /> <param name='site_root' value='' /><param name='name' value='Graph2MortalityProject&#47;Dashboard1' /><param name='tabs' value='no' /><param name='toolbar' value='yes' /><param name='static_image' value='https:&#47;&#47;public.tableau.com&#47;static&#47;images&#47;Gr&#47;Graph2MortalityProject&#47;Dashboard1&#47;1.png' /> <param name='animate_transition' value='yes' /><param name='display_static_image' value='yes' /><param name='display_spinner' value='yes' /><param name='display_overlay' value='yes' /><param name='display_count' value='yes' /><param name='language' value='es-ES' /></object></div>                <script type='text/javascript'>                    var divElement = document.getElementById('viz1673365851677');                    var vizElement = divElement.getElementsByTagName('object')[0];                    if ( divElement.offsetWidth > 800 ) { vizElement.style.minWidth='1020px';vizElement.style.maxWidth='1220px';vizElement.style.width='100%';vizElement.style.minHeight='587px';vizElement.style.maxHeight='687px';vizElement.style.height=(divElement.offsetWidth*0.75)+'px';} else if ( divElement.offsetWidth > 500 ) { vizElement.style.minWidth='1020px';vizElement.style.maxWidth='1220px';vizElement.style.width='100%';vizElement.style.minHeight='587px';vizElement.style.maxHeight='687px';vizElement.style.height=(divElement.offsetWidth*0.75)+'px';} else { vizElement.style.width='100%';vizElement.style.height='727px';}                     var scriptElement = document.createElement('script');                    scriptElement.src = 'https://public.tableau.com/javascripts/api/viz_v1.js';                    vizElement.parentNode.insertBefore(scriptElement, vizElement);                </script>\n"
      ],
      "text/plain": [
       "<IPython.core.display.HTML object>"
      ]
     },
     "metadata": {},
     "output_type": "display_data"
    }
   ],
   "source": [
    "%%html\n",
    "<div class='tableauPlaceholder' id='viz1673365851677' style='position: relative'><noscript><a href='#'><img alt='Dashboard 1 ' src='https:&#47;&#47;public.tableau.com&#47;static&#47;images&#47;Gr&#47;Graph2MortalityProject&#47;Dashboard1&#47;1_rss.png' style='border: none' /></a></noscript><object class='tableauViz'  style='display:none;'><param name='host_url' value='https%3A%2F%2Fpublic.tableau.com%2F' /> <param name='embed_code_version' value='3' /> <param name='site_root' value='' /><param name='name' value='Graph2MortalityProject&#47;Dashboard1' /><param name='tabs' value='no' /><param name='toolbar' value='yes' /><param name='static_image' value='https:&#47;&#47;public.tableau.com&#47;static&#47;images&#47;Gr&#47;Graph2MortalityProject&#47;Dashboard1&#47;1.png' /> <param name='animate_transition' value='yes' /><param name='display_static_image' value='yes' /><param name='display_spinner' value='yes' /><param name='display_overlay' value='yes' /><param name='display_count' value='yes' /><param name='language' value='es-ES' /></object></div>                <script type='text/javascript'>                    var divElement = document.getElementById('viz1673365851677');                    var vizElement = divElement.getElementsByTagName('object')[0];                    if ( divElement.offsetWidth > 800 ) { vizElement.style.minWidth='1020px';vizElement.style.maxWidth='1220px';vizElement.style.width='100%';vizElement.style.minHeight='587px';vizElement.style.maxHeight='687px';vizElement.style.height=(divElement.offsetWidth*0.75)+'px';} else if ( divElement.offsetWidth > 500 ) { vizElement.style.minWidth='1020px';vizElement.style.maxWidth='1220px';vizElement.style.width='100%';vizElement.style.minHeight='587px';vizElement.style.maxHeight='687px';vizElement.style.height=(divElement.offsetWidth*0.75)+'px';} else { vizElement.style.width='100%';vizElement.style.height='727px';}                     var scriptElement = document.createElement('script');                    scriptElement.src = 'https://public.tableau.com/javascripts/api/viz_v1.js';                    vizElement.parentNode.insertBefore(scriptElement, vizElement);                </script>"
   ]
  },
  {
   "cell_type": "markdown",
   "id": "3b29b017",
   "metadata": {},
   "source": [
    "### Deaths by age rank"
   ]
  },
  {
   "cell_type": "markdown",
   "id": "1d138182",
   "metadata": {},
   "source": [
    "Death is the well-known termination of the cycle of life, a cycle that in humans can last up to a hundred years, which is why premature deaths hurt human pride. The age of death is an important factor to consider in mortality analysis."
   ]
  },
  {
   "cell_type": "markdown",
   "id": "1701e1e6",
   "metadata": {},
   "source": [
    "The following query separates the number of deaths by age segment:"
   ]
  },
  {
   "cell_type": "code",
   "execution_count": null,
   "id": "f93e122a",
   "metadata": {},
   "outputs": [],
   "source": [
    "%%sql\n",
    "\n",
    "WITH deaths_by_age_group AS (\n",
    "SELECT  \n",
    "UNNEST (ARRAY ['Deaths in Age: 70+ years',\n",
    "\t   'Deaths in Age: 50-69 years',\n",
    "\t   'Deaths in Age: 15-49 years ',\n",
    "\t   'Deaths in Age: 5-14 years',\n",
    "\t   'Deaths in Age: Under 5']) AS deaths_by_age_group,\n",
    "UNNEST (ARRAY [\"Deaths - All causes - Age: 70+ years\",\n",
    "\t\t\t  \"Deaths - All causes - Age: 50-69 years\",\n",
    "\t\t\t  \"Deaths - All causes - Age: 15-49 years \",\n",
    "\t\t\t  \"Deaths - All causes - Age: 5-14 years\",\n",
    "\t\t\t  \"Deaths - All causes - Age: Under 5\"]) AS total\n",
    "FROM mortality.\"number-of-deaths-by-age-group\"\n",
    ")\n",
    "SELECT deaths_by_age_group, SUM(total) AS total\n",
    "FROM deaths_by_age_group\n",
    "GROUP BY 1\n",
    "ORDER BY 2 DESC"
   ]
  },
  {
   "cell_type": "markdown",
   "id": "2247a693",
   "metadata": {},
   "source": [
    "   "
   ]
  },
  {
   "cell_type": "markdown",
   "id": "d6728b51",
   "metadata": {},
   "source": [
    "It can be verified that in general terms the greatest number of deaths prevails in people over fifty years of age, followed by death in children under five years of age. However, this situation varies when compared by country. "
   ]
  },
  {
   "cell_type": "markdown",
   "id": "1327132a",
   "metadata": {},
   "source": [
    "The query below gives an output for the total number of deaths for each country by age rank:"
   ]
  },
  {
   "cell_type": "code",
   "execution_count": null,
   "id": "e80d61f8",
   "metadata": {},
   "outputs": [],
   "source": [
    "%%sql\n",
    "\n",
    "WITH deaths_by_age_group AS (\n",
    "SELECT \"Entity\",\"Code\", \n",
    "UNNEST (ARRAY ['Deaths Age: 70+ years',\n",
    "\t   'Deaths Age: 50-69 years',\n",
    "\t   'Deaths Age: 15-49 years ',\n",
    "\t   'Deaths Age: 5-14 years',\n",
    "\t   'Deaths Age: Under 5']) as deaths_by_age_group,\n",
    "UNNEST (ARRAY [\"Deaths - All causes - Age: 70+ years\",\n",
    "\t\t\t  \"Deaths - All causes - Age: 50-69 years\",\n",
    "\t\t\t  \"Deaths - All causes - Age: 15-49 years \",\n",
    "\t\t\t  \"Deaths - All causes - Age: 5-14 years\",\n",
    "\t\t\t  \"Deaths - All causes - Age: Under 5\"]) AS total\n",
    "FROM mortality.\"number-of-deaths-by-age-group\"\n",
    ")\n",
    "SELECT \"Entity\",\"Code\",deaths_by_age_group, SUM(total) AS total\n",
    "FROM deaths_by_age_group\n",
    "WHERE \"Code\" IS NOT null AND \"Code\" NOT LIKE '%\\_%'\n",
    "GROUP BY 1,2,3\n",
    "ORDER BY 1,4 DESC"
   ]
  },
  {
   "cell_type": "markdown",
   "id": "2fabd256",
   "metadata": {},
   "source": [
    "   "
   ]
  },
  {
   "cell_type": "markdown",
   "id": "2b6b540d",
   "metadata": {},
   "source": [
    "The graph below shows the global trend that fewer and fewer people die at a young age. Globally in 1990 25% of the deaths were from children under 5 years old and for the year 2019 this percentage reduced to 9%, and the number of deaths in people older than 70 years changed from 33% in 1990 to 50% in 2019. The deaths of children between 5-14 years have changed little over those years, from 3% in 1990 to 1% in 2019. "
   ]
  },
  {
   "cell_type": "code",
   "execution_count": 5,
   "id": "505b1431",
   "metadata": {},
   "outputs": [
    {
     "data": {
      "text/html": [
       "<div class='tableauPlaceholder' id='viz1673365927029' style='position: relative'><noscript><a href='#'><img alt='Dashboard 1 ' src='https:&#47;&#47;public.tableau.com&#47;static&#47;images&#47;Gr&#47;Graph3MortalityProject&#47;Dashboard1&#47;1_rss.png' style='border: none' /></a></noscript><object class='tableauViz'  style='display:none;'><param name='host_url' value='https%3A%2F%2Fpublic.tableau.com%2F' /> <param name='embed_code_version' value='3' /> <param name='site_root' value='' /><param name='name' value='Graph3MortalityProject&#47;Dashboard1' /><param name='tabs' value='no' /><param name='toolbar' value='yes' /><param name='static_image' value='https:&#47;&#47;public.tableau.com&#47;static&#47;images&#47;Gr&#47;Graph3MortalityProject&#47;Dashboard1&#47;1.png' /> <param name='animate_transition' value='yes' /><param name='display_static_image' value='yes' /><param name='display_spinner' value='yes' /><param name='display_overlay' value='yes' /><param name='display_count' value='yes' /><param name='language' value='es-ES' /></object></div>                <script type='text/javascript'>                    var divElement = document.getElementById('viz1673365927029');                    var vizElement = divElement.getElementsByTagName('object')[0];                    if ( divElement.offsetWidth > 800 ) { vizElement.style.width='920px';vizElement.style.height='1087px';} else if ( divElement.offsetWidth > 500 ) { vizElement.style.width='920px';vizElement.style.height='1087px';} else { vizElement.style.width='100%';vizElement.style.height='1177px';}                     var scriptElement = document.createElement('script');                    scriptElement.src = 'https://public.tableau.com/javascripts/api/viz_v1.js';                    vizElement.parentNode.insertBefore(scriptElement, vizElement);                </script>\n"
      ],
      "text/plain": [
       "<IPython.core.display.HTML object>"
      ]
     },
     "metadata": {},
     "output_type": "display_data"
    }
   ],
   "source": [
    "%%html\n",
    "<div class='tableauPlaceholder' id='viz1673365927029' style='position: relative'><noscript><a href='#'><img alt='Dashboard 1 ' src='https:&#47;&#47;public.tableau.com&#47;static&#47;images&#47;Gr&#47;Graph3MortalityProject&#47;Dashboard1&#47;1_rss.png' style='border: none' /></a></noscript><object class='tableauViz'  style='display:none;'><param name='host_url' value='https%3A%2F%2Fpublic.tableau.com%2F' /> <param name='embed_code_version' value='3' /> <param name='site_root' value='' /><param name='name' value='Graph3MortalityProject&#47;Dashboard1' /><param name='tabs' value='no' /><param name='toolbar' value='yes' /><param name='static_image' value='https:&#47;&#47;public.tableau.com&#47;static&#47;images&#47;Gr&#47;Graph3MortalityProject&#47;Dashboard1&#47;1.png' /> <param name='animate_transition' value='yes' /><param name='display_static_image' value='yes' /><param name='display_spinner' value='yes' /><param name='display_overlay' value='yes' /><param name='display_count' value='yes' /><param name='language' value='es-ES' /></object></div>                <script type='text/javascript'>                    var divElement = document.getElementById('viz1673365927029');                    var vizElement = divElement.getElementsByTagName('object')[0];                    if ( divElement.offsetWidth > 800 ) { vizElement.style.width='920px';vizElement.style.height='1087px';} else if ( divElement.offsetWidth > 500 ) { vizElement.style.width='920px';vizElement.style.height='1087px';} else { vizElement.style.width='100%';vizElement.style.height='1177px';}                     var scriptElement = document.createElement('script');                    scriptElement.src = 'https://public.tableau.com/javascripts/api/viz_v1.js';                    vizElement.parentNode.insertBefore(scriptElement, vizElement);                </script>"
   ]
  },
  {
   "cell_type": "markdown",
   "id": "e88b9a77",
   "metadata": {},
   "source": [
    "## 5. Exploring Child Mortality"
   ]
  },
  {
   "cell_type": "markdown",
   "id": "1abc028b",
   "metadata": {},
   "source": [
    "The study of child mortality occupies a special place in the field of demographic research, since it represents the negative component of population growth. Also, the moral aspect that the death of a child implies encourages the search for strategies to reduce this condition."
   ]
  },
  {
   "cell_type": "markdown",
   "id": "63664be3",
   "metadata": {},
   "source": [
    "The following query gives the total number of deaths in children under 5 years old for each country:"
   ]
  },
  {
   "cell_type": "code",
   "execution_count": null,
   "id": "e24a1b14",
   "metadata": {},
   "outputs": [],
   "source": [
    "%%sql\n",
    "\n",
    "WITH deaths_by_age_group AS (\n",
    "SELECT \"Entity\",\"Code\", \n",
    "UNNEST (ARRAY ['Deaths Age: 70+ years',\n",
    "\t   'Deaths Age: 50-69 years',\n",
    "\t   'Deaths Age: 15-49 years ',\n",
    "\t   'Deaths Age: 5-14 years',\n",
    "\t   'Deaths Age: Under 5']) as deaths_by_age_group,\n",
    "UNNEST (ARRAY [\"Deaths - All causes - Age: 70+ years\",\n",
    "\t\t\t  \"Deaths - All causes - Age: 50-69 years\",\n",
    "\t\t\t  \"Deaths - All causes - Age: 15-49 years \",\n",
    "\t\t\t  \"Deaths - All causes - Age: 5-14 years\",\n",
    "\t\t\t  \"Deaths - All causes - Age: Under 5\"]) as total\n",
    "FROM mortality.\"number-of-deaths-by-age-group\"\n",
    ")\n",
    "SELECT \"Entity\",\"Code\",deaths_by_age_group, SUM(total) AS total\n",
    "FROM deaths_by_age_group\n",
    "WHERE \"Code\" IS NOT null AND \"Code\" NOT LIKE '%\\_%'\n",
    "GROUP BY 1,2,3 HAVING deaths_by_age_group = 'Deaths Age: Under 5'\n",
    "ORDER BY 1,4 DESC"
   ]
  },
  {
   "cell_type": "markdown",
   "id": "8ab3a53e",
   "metadata": {},
   "source": [
    "Organizing the output into a graph is possible to see that globally India registers the highest number of deaths in children under 5 years old. It is also possible to separate this number by region. In North America, the country with the most deaths registered is the United States and the one with the least is Greenland. On the other hand, in Latin America, the higher number of deaths occurs in Brazil, followed by Mexico and Haiti. In the African region, the country with the most deaths in Nigeria, followed by Ethiopia and the Democratic Republic of Congo. If the focus is on Europe, it is possible to see that Russia leads the list followed by Ukraine and the United Kingdom. In contrast in the Asiatic region, India leads followed by China and Pakistan. Finally, in Oceania, Papua Nueva Guinea has the higher number of deaths. "
   ]
  },
  {
   "cell_type": "markdown",
   "id": "845256af",
   "metadata": {},
   "source": [
    "# Grafico 4"
   ]
  },
  {
   "cell_type": "code",
   "execution_count": 6,
   "id": "15588551",
   "metadata": {},
   "outputs": [
    {
     "data": {
      "text/html": [
       "<div class='tableauPlaceholder' id='viz1673365988007' style='position: relative'><noscript><a href='#'><img alt='Dashboard 1 ' src='https:&#47;&#47;public.tableau.com&#47;static&#47;images&#47;Gr&#47;Graph4MortalityProject&#47;Dashboard1&#47;1_rss.png' style='border: none' /></a></noscript><object class='tableauViz'  style='display:none;'><param name='host_url' value='https%3A%2F%2Fpublic.tableau.com%2F' /> <param name='embed_code_version' value='3' /> <param name='site_root' value='' /><param name='name' value='Graph4MortalityProject&#47;Dashboard1' /><param name='tabs' value='no' /><param name='toolbar' value='yes' /><param name='static_image' value='https:&#47;&#47;public.tableau.com&#47;static&#47;images&#47;Gr&#47;Graph4MortalityProject&#47;Dashboard1&#47;1.png' /> <param name='animate_transition' value='yes' /><param name='display_static_image' value='yes' /><param name='display_spinner' value='yes' /><param name='display_overlay' value='yes' /><param name='display_count' value='yes' /><param name='language' value='es-ES' /></object></div>                <script type='text/javascript'>                    var divElement = document.getElementById('viz1673365988007');                    var vizElement = divElement.getElementsByTagName('object')[0];                    if ( divElement.offsetWidth > 800 ) { vizElement.style.minWidth='400px';vizElement.style.maxWidth='900px';vizElement.style.width='100%';vizElement.style.minHeight='787px';vizElement.style.maxHeight='987px';vizElement.style.height=(divElement.offsetWidth*0.75)+'px';} else if ( divElement.offsetWidth > 500 ) { vizElement.style.minWidth='400px';vizElement.style.maxWidth='900px';vizElement.style.width='100%';vizElement.style.minHeight='787px';vizElement.style.maxHeight='987px';vizElement.style.height=(divElement.offsetWidth*0.75)+'px';} else { vizElement.style.width='100%';vizElement.style.height='2377px';}                     var scriptElement = document.createElement('script');                    scriptElement.src = 'https://public.tableau.com/javascripts/api/viz_v1.js';                    vizElement.parentNode.insertBefore(scriptElement, vizElement);                </script>\n"
      ],
      "text/plain": [
       "<IPython.core.display.HTML object>"
      ]
     },
     "metadata": {},
     "output_type": "display_data"
    }
   ],
   "source": [
    "%%html\n",
    "<div class='tableauPlaceholder' id='viz1673365988007' style='position: relative'><noscript><a href='#'><img alt='Dashboard 1 ' src='https:&#47;&#47;public.tableau.com&#47;static&#47;images&#47;Gr&#47;Graph4MortalityProject&#47;Dashboard1&#47;1_rss.png' style='border: none' /></a></noscript><object class='tableauViz'  style='display:none;'><param name='host_url' value='https%3A%2F%2Fpublic.tableau.com%2F' /> <param name='embed_code_version' value='3' /> <param name='site_root' value='' /><param name='name' value='Graph4MortalityProject&#47;Dashboard1' /><param name='tabs' value='no' /><param name='toolbar' value='yes' /><param name='static_image' value='https:&#47;&#47;public.tableau.com&#47;static&#47;images&#47;Gr&#47;Graph4MortalityProject&#47;Dashboard1&#47;1.png' /> <param name='animate_transition' value='yes' /><param name='display_static_image' value='yes' /><param name='display_spinner' value='yes' /><param name='display_overlay' value='yes' /><param name='display_count' value='yes' /><param name='language' value='es-ES' /></object></div>                <script type='text/javascript'>                    var divElement = document.getElementById('viz1673365988007');                    var vizElement = divElement.getElementsByTagName('object')[0];                    if ( divElement.offsetWidth > 800 ) { vizElement.style.minWidth='400px';vizElement.style.maxWidth='900px';vizElement.style.width='100%';vizElement.style.minHeight='787px';vizElement.style.maxHeight='987px';vizElement.style.height=(divElement.offsetWidth*0.75)+'px';} else if ( divElement.offsetWidth > 500 ) { vizElement.style.minWidth='400px';vizElement.style.maxWidth='900px';vizElement.style.width='100%';vizElement.style.minHeight='787px';vizElement.style.maxHeight='987px';vizElement.style.height=(divElement.offsetWidth*0.75)+'px';} else { vizElement.style.width='100%';vizElement.style.height='2377px';}                     var scriptElement = document.createElement('script');                    scriptElement.src = 'https://public.tableau.com/javascripts/api/viz_v1.js';                    vizElement.parentNode.insertBefore(scriptElement, vizElement);                </script>"
   ]
  },
  {
   "cell_type": "markdown",
   "id": "be33fb0c",
   "metadata": {},
   "source": [
    "It is a fact that the trend of the mayority of death occurring after the age of 50 is not uniform throughout the world.\n",
    "The following query gives a list of countries in which, the death under 5 years old have the highest number of registered"
   ]
  },
  {
   "cell_type": "markdown",
   "id": "6ab5ab25",
   "metadata": {},
   "source": [
    "### Countries with majority of deaths occurring in children under five years of age"
   ]
  },
  {
   "cell_type": "code",
   "execution_count": null,
   "id": "a114093d",
   "metadata": {},
   "outputs": [],
   "source": [
    "%%sql\n",
    "\n",
    "\n",
    "WITH deaths_by_age_group AS (\n",
    "SELECT \"Entity\",\"Code\", \n",
    "UNNEST (ARRAY ['Deaths: 70+ years',\n",
    "\t   'Deaths: 50-69 years',\n",
    "\t   'Deaths: 15-49 years ',\n",
    "\t   'Deaths: 5-14 years',\n",
    "\t   'Deaths: Under 5']) AS deaths_by_age_group,\n",
    "UNNEST (ARRAY [\"Deaths - All causes - Age: 70+ years\",\n",
    "\t\t\t  \"Deaths - All causes - Age: 50-69 years\",\n",
    "\t\t\t  \"Deaths - All causes - Age: 15-49 years \",\n",
    "\t\t\t  \"Deaths - All causes - Age: 5-14 years\",\n",
    "\t\t\t  \"Deaths - All causes - Age: Under 5\"]) AS total\n",
    "FROM mortality.\"number-of-deaths-by-age-group\"\n",
    ")\n",
    "\n",
    "SELECT countries_with_under5_mortality.* FROM (\n",
    "SELECT \"Entity\",\"Code\",deaths_by_age_group, SUM(total) AS total,\n",
    "RANK() OVER(PARTITION BY \"Entity\" ORDER BY MAX(total) DESC) AS rn\n",
    "FROM deaths_by_age_group\n",
    "WHERE \"Code\" IS NOT null AND \"Code\" NOT LIKE '%\\_%'\n",
    "GROUP BY 1,2,3\n",
    "ORDER BY 1,4 DESC\n",
    ") AS countries_with_under5_mortality\n",
    "WHERE deaths_by_age_group = 'Deaths: Under 5' AND rn = 1\n",
    "ORDER BY 1"
   ]
  },
  {
   "cell_type": "markdown",
   "id": "7804076e",
   "metadata": {},
   "source": [
    "### General causes of death of children under five years of age"
   ]
  },
  {
   "cell_type": "markdown",
   "id": "5e9df42e",
   "metadata": {},
   "source": [
    "Exploring the causes of death in children under 5 years of age, it is possible to see that globally the main causes of death consist of neonatal (newborn infants less than 28 days old) disorders, infections, and congenital (from birth) defects. Lower respiratory infections have 25% of registered cases, followed by neonatal preterm birth at 23% and congenital birth defects at 20%. Children under 5 years of age are also susceptible to diarrheal infections, malnutrition, and nutritional deficiencies. It is possible to see that the main cause of death in this population vary across countries, being the nature of the deaths different for low and high-income countries, for example in the United States the main cause of death is neonatal preterm birth while in Haiti the main cause is a diarrheal disease. "
   ]
  },
  {
   "cell_type": "markdown",
   "id": "dc91647e",
   "metadata": {},
   "source": [
    "The graph below shows the total number of deaths by cause and the leading causes of death through years, only the first five causes of death per year were taken into account for all countries overall:"
   ]
  },
  {
   "cell_type": "code",
   "execution_count": 8,
   "id": "5971d852",
   "metadata": {},
   "outputs": [
    {
     "data": {
      "text/html": [
       "<div class='tableauPlaceholder' id='viz1673366956891' style='position: relative'><noscript><a href='#'><img alt='Dashboard 1 ' src='https:&#47;&#47;public.tableau.com&#47;static&#47;images&#47;Gr&#47;Graph5MortalityProject&#47;Dashboard1&#47;1_rss.png' style='border: none' /></a></noscript><object class='tableauViz'  style='display:none;'><param name='host_url' value='https%3A%2F%2Fpublic.tableau.com%2F' /> <param name='embed_code_version' value='3' /> <param name='site_root' value='' /><param name='name' value='Graph5MortalityProject&#47;Dashboard1' /><param name='tabs' value='no' /><param name='toolbar' value='yes' /><param name='static_image' value='https:&#47;&#47;public.tableau.com&#47;static&#47;images&#47;Gr&#47;Graph5MortalityProject&#47;Dashboard1&#47;1.png' /> <param name='animate_transition' value='yes' /><param name='display_static_image' value='yes' /><param name='display_spinner' value='yes' /><param name='display_overlay' value='yes' /><param name='display_count' value='yes' /><param name='language' value='es-ES' /><param name='filter' value='publish=yes' /></object></div>                <script type='text/javascript'>                    var divElement = document.getElementById('viz1673366956891');                    var vizElement = divElement.getElementsByTagName('object')[0];                    if ( divElement.offsetWidth > 800 ) { vizElement.style.minWidth='520px';vizElement.style.maxWidth='950px';vizElement.style.width='100%';vizElement.style.height='1087px';} else if ( divElement.offsetWidth > 500 ) { vizElement.style.minWidth='520px';vizElement.style.maxWidth='950px';vizElement.style.width='100%';vizElement.style.height='1087px';} else { vizElement.style.width='100%';vizElement.style.height='1177px';}                     var scriptElement = document.createElement('script');                    scriptElement.src = 'https://public.tableau.com/javascripts/api/viz_v1.js';                    vizElement.parentNode.insertBefore(scriptElement, vizElement);                </script>\n"
      ],
      "text/plain": [
       "<IPython.core.display.HTML object>"
      ]
     },
     "metadata": {},
     "output_type": "display_data"
    }
   ],
   "source": [
    "%%html\n",
    "<div class='tableauPlaceholder' id='viz1673366956891' style='position: relative'><noscript><a href='#'><img alt='Dashboard 1 ' src='https:&#47;&#47;public.tableau.com&#47;static&#47;images&#47;Gr&#47;Graph5MortalityProject&#47;Dashboard1&#47;1_rss.png' style='border: none' /></a></noscript><object class='tableauViz'  style='display:none;'><param name='host_url' value='https%3A%2F%2Fpublic.tableau.com%2F' /> <param name='embed_code_version' value='3' /> <param name='site_root' value='' /><param name='name' value='Graph5MortalityProject&#47;Dashboard1' /><param name='tabs' value='no' /><param name='toolbar' value='yes' /><param name='static_image' value='https:&#47;&#47;public.tableau.com&#47;static&#47;images&#47;Gr&#47;Graph5MortalityProject&#47;Dashboard1&#47;1.png' /> <param name='animate_transition' value='yes' /><param name='display_static_image' value='yes' /><param name='display_spinner' value='yes' /><param name='display_overlay' value='yes' /><param name='display_count' value='yes' /><param name='language' value='es-ES' /><param name='filter' value='publish=yes' /></object></div>                <script type='text/javascript'>                    var divElement = document.getElementById('viz1673366956891');                    var vizElement = divElement.getElementsByTagName('object')[0];                    if ( divElement.offsetWidth > 800 ) { vizElement.style.minWidth='520px';vizElement.style.maxWidth='950px';vizElement.style.width='100%';vizElement.style.height='1087px';} else if ( divElement.offsetWidth > 500 ) { vizElement.style.minWidth='520px';vizElement.style.maxWidth='950px';vizElement.style.width='100%';vizElement.style.height='1087px';} else { vizElement.style.width='100%';vizElement.style.height='1177px';}                     var scriptElement = document.createElement('script');                    scriptElement.src = 'https://public.tableau.com/javascripts/api/viz_v1.js';                    vizElement.parentNode.insertBefore(scriptElement, vizElement);                </script>"
   ]
  },
  {
   "cell_type": "markdown",
   "id": "f32d003c",
   "metadata": {},
   "source": [
    "## Conclusion"
   ]
  },
  {
   "cell_type": "markdown",
   "id": "efeef9fd",
   "metadata": {},
   "source": [
    "Data analysis allows for obtaining information that can offer practical and valuable solutions to existing problems, one of the most powerful tools for data analysis is SQL, which allows structured data to be thoroughly cleaned and analyzed. In this notebook, the task of analyzing mortality data using SQL and Tableau was proposed, it was achievable to analyze the data set to extract answers to the questions initially raised. \n",
    "In this way, one of the insights was that the main cause of death in the world is cardiovascular diseases, the same way it was possible to get the main countries with the most registered deaths and also their main causes of death.\n",
    "Several main causes of death were taken into consideration to distinguish trends over the years for all countries, also in this analysis was attainable to observe natural disasters such as the earthquake in Haiti. \n",
    "When comparing by age range, could be discovered that fewer deaths of children under five years of age are registered annually, however, this trend was not absolute, and a list of countries where this trend is not met was set. Finally, the main causes of death in the child population and their variation over the years were determined."
   ]
  }
 ],
 "metadata": {
  "kernelspec": {
   "display_name": "Python 3 (ipykernel)",
   "language": "python",
   "name": "python3"
  },
  "language_info": {
   "codemirror_mode": {
    "name": "ipython",
    "version": 3
   },
   "file_extension": ".py",
   "mimetype": "text/x-python",
   "name": "python",
   "nbconvert_exporter": "python",
   "pygments_lexer": "ipython3",
   "version": "3.9.13"
  }
 },
 "nbformat": 4,
 "nbformat_minor": 5
}
